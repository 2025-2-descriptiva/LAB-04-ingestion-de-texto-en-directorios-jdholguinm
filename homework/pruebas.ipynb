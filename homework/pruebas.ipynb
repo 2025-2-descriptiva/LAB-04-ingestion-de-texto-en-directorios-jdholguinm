{
 "cells": [
  {
   "cell_type": "code",
   "execution_count": 1,
   "id": "098fabd5",
   "metadata": {},
   "outputs": [],
   "source": [
    "import zipfile\n",
    "import os\n",
    "import pandas as pd\n",
    "\n",
    "def lectura_datos():\n",
    "    zip_path = \"../files/input.zip\"   # ejemplo: 'files/input/datos.zip'\n",
    "    extract_to = \"../input/\"         # ejemplo: 'files/input/'\n",
    "\n",
    "    # Crea la carpeta destino si no existe\n",
    "    os.makedirs(extract_to, exist_ok=True)\n",
    "\n",
    "    # Descomprimir\n",
    "    with zipfile.ZipFile(zip_path, 'r') as zip_ref:\n",
    "        zip_ref.extractall(extract_to)\n",
    "\n",
    "    print(\"✅ Archivo descomprimido en:\", extract_to)"
   ]
  },
  {
   "cell_type": "code",
   "execution_count": 2,
   "id": "3efaf119",
   "metadata": {},
   "outputs": [],
   "source": [
    "data = []\n",
    "base_path = r\"../input/input\"\n",
    "\n",
    "# Recorre train y test\n",
    "for dataset in os.listdir(base_path):\n",
    "    dataset_path = os.path.join(base_path, dataset)\n",
    "    # print(dataset_path)\n",
    "\n",
    "    # Recorre positive, negative, neutral\n",
    "    for sentiment in os.listdir(dataset_path):\n",
    "        folder_path = os.path.join(dataset_path, sentiment)\n",
    "        # print(folder_path)\n",
    "\n",
    "        # Recorre todos los archivos .txt dentro de cada carpeta\n",
    "        for filename in os.listdir(folder_path):\n",
    "            file_path = os.path.join(folder_path, filename)\n",
    "            # print(file_path)\n",
    "\n",
    "            # Leer el contenido del archivo\n",
    "            with open(file_path, \"r\", encoding=\"utf-8\") as f:\n",
    "                phrase = f.read().strip()\n",
    "\n",
    "            # Agregar a la lista como diccionario\n",
    "            data.append({\n",
    "                \"dataset\": dataset,\n",
    "                \"phrase\": phrase,\n",
    "                \"target\": sentiment\n",
    "            })\n",
    "\n",
    "df = pd.DataFrame(data)"
   ]
  },
  {
   "cell_type": "code",
   "execution_count": 3,
   "id": "58400091",
   "metadata": {},
   "outputs": [],
   "source": [
    "test_dataset = df[df[\"dataset\"]==\"test\"].reset_index(drop=True)\n",
    "train_dataset = df[df[\"dataset\"]==\"train\"].reset_index(drop=True)\n"
   ]
  },
  {
   "cell_type": "code",
   "execution_count": 4,
   "id": "a44355d2",
   "metadata": {},
   "outputs": [],
   "source": [
    "test_dataset = test_dataset.drop(\"dataset\", axis=1)\n",
    "train_dataset = train_dataset.drop(\"dataset\", axis=1)"
   ]
  },
  {
   "cell_type": "code",
   "execution_count": 11,
   "id": "b5d6d35a",
   "metadata": {},
   "outputs": [
    {
     "data": {
      "application/vnd.microsoft.datawrangler.viewer.v0+json": {
       "columns": [
        {
         "name": "index",
         "rawType": "int64",
         "type": "integer"
        },
        {
         "name": "phrase",
         "rawType": "object",
         "type": "string"
        },
        {
         "name": "target",
         "rawType": "object",
         "type": "string"
        }
       ],
       "ref": "2fb6b0f3-4fe9-4964-86cb-fe6fa9e7f2ae",
       "rows": [
        [
         "0",
         "The real estate company posted a net loss of +ï¿½  x201a -ï¿½ 59.3 million +ï¿½  x201a -ï¿½ 0.21 per share compared with a net profit of +ï¿½  x201a -ï¿½ 31 million +ï¿½  x201a -ï¿½ 0.11 per share for the corresponding quarter of 2007",
         "negative"
        ],
        [
         "1",
         "The EU Commission said earlier it had fined ThyssenKrupp , United Technologies Corp 's Otis , Schindler AG and Kone Oyj a total of 992.3 mln eur for alleged cartel activity in the lift market going back twelve years",
         "negative"
        ],
        [
         "2",
         "Cargo traffic fell 1 % year-on-year to 8,561 tonnes in September 2009",
         "negative"
        ],
        [
         "3",
         "Finnish media group Talentum has issued a profit warning",
         "negative"
        ],
        [
         "4",
         "Net profit fell by almost half to +ï¿½ 5.5 million from +ï¿½ 9.4 million at the end of 2007",
         "negative"
        ],
        [
         "5",
         "Cash flow from operations in January-December 2008 was a negative EUR 18.1 mn compared to EUR 39.0 mn in the corresponding period in 2007",
         "negative"
        ],
        [
         "6",
         "Diluted earnings per share ( EPS ) stood at EUR 0.25 versus EUR 0.42",
         "negative"
        ],
        [
         "7",
         "Production levels have been agreed with producers a long time ago , so a fall in consumption will lead to losses",
         "negative"
        ],
        [
         "8",
         "Market share decreased on the route between Helsinki in Finland and Tallinn in Estonia by 0.1 percentage points to 24.8 %",
         "negative"
        ],
        [
         "9",
         "Finnish developer and manufacturer of mobile phone chargers Salcomp Plc OMX Helsinki : SAL1V on Wednesday 19 November lowered its full-year net sales estimate",
         "negative"
        ]
       ],
       "shape": {
        "columns": 2,
        "rows": 10
       }
      },
      "text/html": [
       "<div>\n",
       "<style scoped>\n",
       "    .dataframe tbody tr th:only-of-type {\n",
       "        vertical-align: middle;\n",
       "    }\n",
       "\n",
       "    .dataframe tbody tr th {\n",
       "        vertical-align: top;\n",
       "    }\n",
       "\n",
       "    .dataframe thead th {\n",
       "        text-align: right;\n",
       "    }\n",
       "</style>\n",
       "<table border=\"1\" class=\"dataframe\">\n",
       "  <thead>\n",
       "    <tr style=\"text-align: right;\">\n",
       "      <th></th>\n",
       "      <th>phrase</th>\n",
       "      <th>target</th>\n",
       "    </tr>\n",
       "  </thead>\n",
       "  <tbody>\n",
       "    <tr>\n",
       "      <th>0</th>\n",
       "      <td>The real estate company posted a net loss of +...</td>\n",
       "      <td>negative</td>\n",
       "    </tr>\n",
       "    <tr>\n",
       "      <th>1</th>\n",
       "      <td>The EU Commission said earlier it had fined Th...</td>\n",
       "      <td>negative</td>\n",
       "    </tr>\n",
       "    <tr>\n",
       "      <th>2</th>\n",
       "      <td>Cargo traffic fell 1 % year-on-year to 8,561 t...</td>\n",
       "      <td>negative</td>\n",
       "    </tr>\n",
       "    <tr>\n",
       "      <th>3</th>\n",
       "      <td>Finnish media group Talentum has issued a prof...</td>\n",
       "      <td>negative</td>\n",
       "    </tr>\n",
       "    <tr>\n",
       "      <th>4</th>\n",
       "      <td>Net profit fell by almost half to +ï¿½ 5.5 mil...</td>\n",
       "      <td>negative</td>\n",
       "    </tr>\n",
       "    <tr>\n",
       "      <th>5</th>\n",
       "      <td>Cash flow from operations in January-December ...</td>\n",
       "      <td>negative</td>\n",
       "    </tr>\n",
       "    <tr>\n",
       "      <th>6</th>\n",
       "      <td>Diluted earnings per share ( EPS ) stood at EU...</td>\n",
       "      <td>negative</td>\n",
       "    </tr>\n",
       "    <tr>\n",
       "      <th>7</th>\n",
       "      <td>Production levels have been agreed with produc...</td>\n",
       "      <td>negative</td>\n",
       "    </tr>\n",
       "    <tr>\n",
       "      <th>8</th>\n",
       "      <td>Market share decreased on the route between He...</td>\n",
       "      <td>negative</td>\n",
       "    </tr>\n",
       "    <tr>\n",
       "      <th>9</th>\n",
       "      <td>Finnish developer and manufacturer of mobile p...</td>\n",
       "      <td>negative</td>\n",
       "    </tr>\n",
       "  </tbody>\n",
       "</table>\n",
       "</div>"
      ],
      "text/plain": [
       "                                              phrase    target\n",
       "0  The real estate company posted a net loss of +...  negative\n",
       "1  The EU Commission said earlier it had fined Th...  negative\n",
       "2  Cargo traffic fell 1 % year-on-year to 8,561 t...  negative\n",
       "3  Finnish media group Talentum has issued a prof...  negative\n",
       "4  Net profit fell by almost half to +ï¿½ 5.5 mil...  negative\n",
       "5  Cash flow from operations in January-December ...  negative\n",
       "6  Diluted earnings per share ( EPS ) stood at EU...  negative\n",
       "7  Production levels have been agreed with produc...  negative\n",
       "8  Market share decreased on the route between He...  negative\n",
       "9  Finnish developer and manufacturer of mobile p...  negative"
      ]
     },
     "execution_count": 11,
     "metadata": {},
     "output_type": "execute_result"
    }
   ],
   "source": [
    "train_dataset.head(10)"
   ]
  },
  {
   "cell_type": "code",
   "execution_count": 6,
   "id": "694a6e42",
   "metadata": {},
   "outputs": [],
   "source": [
    "conteo_test = list(test_dataset[\"target\"].value_counts().groupby(\"target\"))\n",
    "conteo_train = list(train_dataset[\"target\"].value_counts().groupby(\"target\"))"
   ]
  },
  {
   "cell_type": "code",
   "execution_count": 7,
   "id": "872cdcc5",
   "metadata": {},
   "outputs": [
    {
     "name": "stdout",
     "output_type": "stream",
     "text": [
      "[('negative', target\n",
      "negative    67\n",
      "Name: count, dtype: int64), ('neutral', target\n",
      "neutral    274\n",
      "Name: count, dtype: int64), ('positive', target\n",
      "positive    112\n",
      "Name: count, dtype: int64)] \n",
      " [('negative', target\n",
      "negative    236\n",
      "Name: count, dtype: int64), ('neutral', target\n",
      "neutral    1117\n",
      "Name: count, dtype: int64), ('positive', target\n",
      "positive    458\n",
      "Name: count, dtype: int64)]\n"
     ]
    }
   ],
   "source": [
    "print(conteo_test, \"\\n\", conteo_train)\n"
   ]
  },
  {
   "cell_type": "code",
   "execution_count": null,
   "id": "bf5c08d9",
   "metadata": {},
   "outputs": [],
   "source": [
    "# Crea la carpeta destino de los csv si no existe\n",
    "rutacsv = \"../output/\" \n",
    "os.makedirs(rutacsv, exist_ok=True)"
   ]
  },
  {
   "cell_type": "code",
   "execution_count": 15,
   "id": "ed796109",
   "metadata": {},
   "outputs": [],
   "source": [
    "# Guardar csv en la ruta indicada\n",
    "ruta_train= \"train_dataset.csv\"\n",
    "ruta_test= \"test_dataset.csv\"\n",
    "\n",
    "train_dataset.to_csv(os.path.join(rutacsv,ruta_train), index=False, encoding=\"utf-8\")\n",
    "test_dataset.to_csv(os.path.join(rutacsv,ruta_test), index=False, encoding=\"utf-8\")\n"
   ]
  }
 ],
 "metadata": {
  "kernelspec": {
   "display_name": ".venv (3.13.2)",
   "language": "python",
   "name": "python3"
  },
  "language_info": {
   "codemirror_mode": {
    "name": "ipython",
    "version": 3
   },
   "file_extension": ".py",
   "mimetype": "text/x-python",
   "name": "python",
   "nbconvert_exporter": "python",
   "pygments_lexer": "ipython3",
   "version": "3.13.2"
  }
 },
 "nbformat": 4,
 "nbformat_minor": 5
}
